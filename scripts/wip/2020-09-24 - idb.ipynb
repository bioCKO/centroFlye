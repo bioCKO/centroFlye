{
 "cells": [
  {
   "cell_type": "code",
   "execution_count": 1,
   "metadata": {},
   "outputs": [],
   "source": [
    "from collections import Counter, defaultdict, deque\n",
    "import datetime\n",
    "import itertools\n",
    "import logging\n",
    "import os\n",
    "import sys\n",
    "\n",
    "import edlib\n",
    "import networkx as nx\n",
    "import numpy as np\n",
    "\n",
    "sys.path.append('../')\n"
   ]
  },
  {
   "cell_type": "code",
   "execution_count": 2,
   "metadata": {},
   "outputs": [],
   "source": [
    "%load_ext autoreload\n",
    "%autoreload 2"
   ]
  },
  {
   "cell_type": "code",
   "execution_count": 3,
   "metadata": {},
   "outputs": [],
   "source": [
    "from assembly_utils.map_utils import map_monoreads_to_monoassembly\n",
    "from sequence_graph.db_graph import DeBruijnGraph\n",
    "from sequence_graph.idb_graph import get_idb_monostring_set\n",
    "from sequence_graph.db_graph_3col import DeBruijnGraph3Color\n",
    "from sequence_graph.path_graph import PathDeBruijnGraph, IDBMappings\n",
    "from sd_parser.sd_parser import SD_Report\n",
    "\n",
    "from utils.various import filter_sublsts_n2_dict, index\n"
   ]
  },
  {
   "cell_type": "code",
   "execution_count": 4,
   "metadata": {},
   "outputs": [],
   "source": [
    "k = 300\n",
    "cen = 'X'"
   ]
  },
  {
   "cell_type": "code",
   "execution_count": 1144,
   "metadata": {},
   "outputs": [
    {
     "data": {
      "text/plain": [
       "'20200928'"
      ]
     },
     "execution_count": 1144,
     "metadata": {},
     "output_type": "execute_result"
    }
   ],
   "source": [
    "now = datetime.datetime.now()\n",
    "date = f'{now.year}{now.month:02}{now.day:02}'\n",
    "date"
   ]
  },
  {
   "cell_type": "code",
   "execution_count": 6,
   "metadata": {},
   "outputs": [],
   "source": [
    "## cen6\n",
    "# monomers_fn = '/Poppy/abzikadze/centroFlye/centroFlye_repo/data/monomers/cen6/cen6_monomers_w_hybrids_chm13.fasta'\n",
    "# sd_report_assembly_fn = '/Poppy/abzikadze/centroFlye/centroFlye_repo/experiments/20200808/cF_cen6_mid1/SD_assembly/final_decomposition.tsv'\n",
    "# assembly_fn = '/Poppy/abzikadze/centroFlye/centroFlye_repo/data-share/assemblies/human/chm13/cen6/cFM6_v0.3.0_polish_combined.fasta'\n",
    "# sd_report_assembly = SD_Report(sd_report_fn=sd_report_assembly_fn, monomers_fn=monomers_fn, sequences_fn=assembly_fn, mode='assembly')\n"
   ]
  },
  {
   "cell_type": "code",
   "execution_count": 7,
   "metadata": {},
   "outputs": [],
   "source": [
    "## cenX\n",
    "monomers_fn = '/Poppy/abzikadze/centroFlye/centroFlye_repo/data/monomers/cenX/cenX_monomers_w_hybrids_chm13_20200617.fasta'\n",
    "sd_report_assembly_fn = '/Poppy/abzikadze/centroFlye/centroFlye_repo/experiments/20200831/cF_cenX_mid1/SD_assembly/final_decomposition.tsv'\n",
    "assembly_fn = '/Poppy/abzikadze/centroFlye/centroFlye_repo/data/assemblies/cenX/cFX_v0.8.3_tQ_57ef8d6.fasta'\n",
    "sd_report_assembly = SD_Report(sd_report_fn=sd_report_assembly_fn, monomers_fn=monomers_fn, sequences_fn=assembly_fn, mode='assembly')\n"
   ]
  },
  {
   "cell_type": "code",
   "execution_count": 8,
   "metadata": {},
   "outputs": [
    {
     "data": {
      "text/plain": [
       "18133"
      ]
     },
     "execution_count": 8,
     "metadata": {},
     "output_type": "execute_result"
    }
   ],
   "source": [
    "monoassembly = sd_report_assembly.monostring_set.monostrings\n",
    "raw_monoassembly = next(iter(monoassembly.values())).raw_monostring\n",
    "len(raw_monoassembly)\n",
    "# raw_monoassembly"
   ]
  },
  {
   "cell_type": "code",
   "execution_count": 9,
   "metadata": {},
   "outputs": [],
   "source": [
    "# dbs_assembly, _ = get_idb_monostring_set(string_set=sd_report_assembly.monostring_set,\n",
    "#                                          mink=k, maxk=k,\n",
    "#                                          outdir=f'../../experiments/{date}/idb_cen{cen}_assembly_k{k}',\n",
    "#                                          mode='assembly')"
   ]
  },
  {
   "cell_type": "code",
   "execution_count": 10,
   "metadata": {},
   "outputs": [],
   "source": [
    "## cen6\n",
    "# dbs_assembly = {}\n",
    "# dbs_assembly[k] = \\\n",
    "#    DeBruijnGraph.from_pickle('/Poppy/abzikadze/centroFlye/centroFlye_repo/experiments/20200831/cF_cen6_mid1/idb/db_k300.pickle')\n",
    "\n"
   ]
  },
  {
   "cell_type": "code",
   "execution_count": 11,
   "metadata": {},
   "outputs": [],
   "source": [
    "## cenX\n",
    "dbs_assembly = {}\n",
    "dbs_assembly[k] = \\\n",
    "   DeBruijnGraph.from_pickle('/Poppy/abzikadze/centroFlye/centroFlye_repo/experiments/20200831/cF_cenX_mid1/idb/db_k300.pickle')\n",
    "\n"
   ]
  },
  {
   "cell_type": "code",
   "execution_count": 12,
   "metadata": {},
   "outputs": [],
   "source": [
    "## cen6\n",
    "# reads_fn = '/Poppy/abzikadze/centroFlye/centroFlye_repo/data/reads/cen6/centromeric_reads_6_rel5__S1C6H1L.d6z1_rel5_rds.fasta'\n",
    "\n",
    "# sd_report_fn = '/Poppy/abzikadze/centroFlye/centroFlye_repo/experiments/20200609/SD_a967a0a_cen6_chm13_rel5_with_hybrids/final_decomposition.tsv'\n",
    "\n",
    "# sd_report = SD_Report(sd_report_fn=sd_report_fn, monomers_fn=monomers_fn, sequences_fn=reads_fn, mode='ont')\n",
    "\n"
   ]
  },
  {
   "cell_type": "code",
   "execution_count": 13,
   "metadata": {},
   "outputs": [],
   "source": [
    "## cenX\n",
    "reads_fn = '/Poppy/abzikadze/centroFlye/centroFlye_repo/data/reads/cenX/centromeric_reads_X_rel5.fasta'\n",
    "\n",
    "sd_report_fn = '/Poppy/abzikadze/centroFlye/centroFlye_repo/experiments/20200617/SD_8327dec_cenX_rel5/final_decomposition.tsv'\n",
    "\n",
    "sd_report = SD_Report(sd_report_fn=sd_report_fn, monomers_fn=monomers_fn, sequences_fn=reads_fn, mode='ont')\n",
    "\n"
   ]
  },
  {
   "cell_type": "code",
   "execution_count": 14,
   "metadata": {},
   "outputs": [],
   "source": [
    "monoreads_set = sd_report.monostring_set"
   ]
  },
  {
   "cell_type": "code",
   "execution_count": 15,
   "metadata": {},
   "outputs": [],
   "source": [
    "locations = map_monoreads_to_monoassembly(monoreads_set, monoassembly)"
   ]
  },
  {
   "cell_type": "markdown",
   "metadata": {},
   "source": [
    "# New mappings"
   ]
  },
  {
   "cell_type": "code",
   "execution_count": 171,
   "metadata": {},
   "outputs": [],
   "source": [
    "from itertools import count"
   ]
  },
  {
   "cell_type": "code",
   "execution_count": 1074,
   "metadata": {},
   "outputs": [],
   "source": [
    "class IDBMapping:\n",
    "    def __init__(self, mappings):\n",
    "        self.mappings = mappings\n",
    "    \n",
    "    def add(self, st, en, new):\n",
    "        for r_id, mapping in self.mappings.items():\n",
    "            for i, a, b in zip(count(), mapping, mapping[1:]):\n",
    "                if a == st and b == en:\n",
    "                    self.mappings[r_id].insert(i+1, new)\n",
    "    \n",
    "    def remove(self, edge):\n",
    "        for r_id, mapping in self.mappings.items():\n",
    "            self.mappings[r_id] = list(filter(lambda e: e != edge, mapping))\n",
    "    \n",
    "    def merge(self, st, en):\n",
    "        # merge en into st\n",
    "        for r_id, mapping in self.mappings.items():\n",
    "            if len(mapping) and mapping[0] == en:\n",
    "                self.mappings[r_id][0] = st\n",
    "        self.remove(en)\n",
    "        \n",
    "    def get_active_connections(self):\n",
    "        ac = set()\n",
    "        for mapping in self.mappings.values():\n",
    "            for a, b in zip(mapping, mapping[1:]):\n",
    "                ac.add((a, b))\n",
    "        return ac"
   ]
  },
  {
   "cell_type": "code",
   "execution_count": 238,
   "metadata": {},
   "outputs": [],
   "source": [
    "idb_mapping_new = IDBMapping({0: [0, 1, 2, 3], 1: [1, 3, 5, 6, 1, 2]})"
   ]
  },
  {
   "cell_type": "code",
   "execution_count": 239,
   "metadata": {},
   "outputs": [
    {
     "data": {
      "text/plain": [
       "{0: [0, 1, 2, 3], 1: [1, 3, 5, 6, 1, 2]}"
      ]
     },
     "execution_count": 239,
     "metadata": {},
     "output_type": "execute_result"
    }
   ],
   "source": [
    "idb_mapping_new.mappings"
   ]
  },
  {
   "cell_type": "code",
   "execution_count": 240,
   "metadata": {},
   "outputs": [],
   "source": [
    "idb_mapping_new.add(1, 2, -1)"
   ]
  },
  {
   "cell_type": "code",
   "execution_count": 241,
   "metadata": {},
   "outputs": [
    {
     "data": {
      "text/plain": [
       "{0: [0, 1, -1, 2, 3], 1: [1, 3, 5, 6, 1, -1, 2]}"
      ]
     },
     "execution_count": 241,
     "metadata": {},
     "output_type": "execute_result"
    }
   ],
   "source": [
    "idb_mapping_new.mappings"
   ]
  },
  {
   "cell_type": "code",
   "execution_count": 242,
   "metadata": {},
   "outputs": [],
   "source": [
    "idb_mapping_new.remove(-1)"
   ]
  },
  {
   "cell_type": "code",
   "execution_count": 243,
   "metadata": {},
   "outputs": [
    {
     "data": {
      "text/plain": [
       "{0: [0, 1, 2, 3], 1: [1, 3, 5, 6, 1, 2]}"
      ]
     },
     "execution_count": 243,
     "metadata": {},
     "output_type": "execute_result"
    }
   ],
   "source": [
    "idb_mapping_new.mappings"
   ]
  },
  {
   "cell_type": "code",
   "execution_count": 244,
   "metadata": {},
   "outputs": [],
   "source": [
    "idb_mapping_new.merge(0, 1)"
   ]
  },
  {
   "cell_type": "code",
   "execution_count": 245,
   "metadata": {
    "scrolled": true
   },
   "outputs": [
    {
     "data": {
      "text/plain": [
       "{0: [0, 2, 3], 1: [0, 3, 5, 6, 2]}"
      ]
     },
     "execution_count": 245,
     "metadata": {},
     "output_type": "execute_result"
    }
   ],
   "source": [
    "idb_mapping_new.mappings"
   ]
  },
  {
   "cell_type": "markdown",
   "metadata": {},
   "source": [
    "# Light DB"
   ]
  },
  {
   "cell_type": "code",
   "execution_count": null,
   "metadata": {},
   "outputs": [],
   "source": [
    "        def process_complex_fast():\n",
    "            # complex vertex\n",
    "            all_ac = self.idb_mappings.get_active_connections()\n",
    "\n",
    "            in_indexes = [self.edge2index[e_in] for e_in in inedges]\n",
    "            out_indexes = [self.edge2index[e_out] for e_out in outedges]\n",
    "\n",
    "            ac = defaultdict(list)\n",
    "\n",
    "            for e_in in in_indexes:\n",
    "                for e_out in out_indexes:\n",
    "                    if (e_in, e_out) in all_ac:\n",
    "                        ac[e_in].append(e_out)\n",
    "                        ac[e_out].append(e_in)\n",
    "\n",
    "            # unglue and merge isolates\n",
    "            isolates = {(e_in, e_out) for e_in in in_indexes for e_out in out_indexes\n",
    "                        if ac[e_in] == [e_out] and ac[e_out] == [e_in]}\n",
    "            print('isolates', isolates)\n",
    "            for e_index, e_outdex in isolates:\n",
    "                e_in = self.index2edge[e_index]\n",
    "                e_out = self.index2edge[e_outdex]\n",
    "                in_seq = self.edge2seq[e_index]\n",
    "                out_seq = self.edge2seq[e_outdex]\n",
    "                assert in_seq[-self.k+1:] == out_seq[:self.k-1]\n",
    "                seq = in_seq + out_seq[self.k-1:]\n",
    "                self.nx_graph.remove_edge(*e_in)\n",
    "                self.nx_graph.remove_edge(*e_out)\n",
    "                key = self.nx_graph.add_edge(e_in[0], e_out[1])\n",
    "                del self.edge2index[e_in]\n",
    "                new_edge = (e_in[0], e_out[1], key)\n",
    "                self.edge2index[new_edge] = e_index\n",
    "                self.index2edge[e_index] = new_edge\n",
    "                self.idb_mappings.merge(e_index, e_outdex)\n",
    "                self.edge2seq[e_index] = seq\n",
    "                del self.edge2seq[e_outdex]\n",
    "\n",
    "            # create new nodes and redirect existing edges\n",
    "            for index in in_indexes:\n",
    "                if len(ac[index]) >= 2:\n",
    "                    w = self.max_node_index\n",
    "                    edge = self.index2edge[index]\n",
    "                    print(index, edge)\n",
    "                    self.nx_graph.remove_edge(*edge)\n",
    "                    del self.edge2index[edge]\n",
    "                    new_edge = (edge[0], w, 0)\n",
    "                    self.edge2index[new_edge] = index\n",
    "                    self.index2edge[index] = new_edge\n",
    "                    self.nx_graph.add_edge(*new_edge)                        \n",
    "                    self.max_node_index += 1\n",
    "                    \n",
    "            for index in out_indexes:\n",
    "                if len(ac[index]) >= 2:\n",
    "                    w = self.max_node_index\n",
    "                    edge = self.index2edge[index]\n",
    "                    print(index, edge)\n",
    "                    self.nx_graph.remove_edge(*edge)\n",
    "                    del self.edge2index[edge]\n",
    "                    new_edge = (w, edge[1], 0)\n",
    "                    self.edge2index[new_edge] = index\n",
    "                    self.index2edge[index] = new_edge\n",
    "                    self.nx_graph.add_edge(*new_edge)                        \n",
    "                    self.max_node_index += 1\n",
    "\n",
    "            # create new edges b/w new nodes\n",
    "            for e_index in in_indexes:\n",
    "                if len(ac[e_index]) >= 2:\n",
    "                    for e_outdex in ac[e_index]:\n",
    "                        if len(ac[e_outdex]) >= 2:\n",
    "                            in_seq = self.edge2seq[e_index]\n",
    "                            out_seq = self.edge2seq[e_outdex]\n",
    "                            assert in_seq[-self.k+1:] == out_seq[:self.k-1]\n",
    "                            seq = in_seq[-self.k:] + [out_seq[self.k-1]]\n",
    "                            assert len(seq) == self.k + 1\n",
    "                            in_edge = self.index2edge[e_index]\n",
    "                            out_edge = self.index2edge[e_outdex]\n",
    "                            new_edge = (in_edge[1], out_edge[0], 0)\n",
    "                            self.nx_graph.add_edge(*new_edge)\n",
    "                            self.edge2index[new_edge] = self.max_edge_index\n",
    "                            self.index2edge[self.max_edge_index] = new_edge\n",
    "                            self.edge2seq[self.max_edge_index] = seq\n",
    "                            self.max_edge_index += 1\n",
    "\n",
    "            # move and extend the rest of the edges\n",
    "            for e_index in in_indexes:\n",
    "                if len(ac[e_index]) == 1:\n",
    "                    e_outdex = ac[e_index][0]\n",
    "                    if len(ac[e_outdex]) == 1:\n",
    "                        continue\n",
    "                    in_edge = self.index2edge[e_index]\n",
    "                    out_edge = self.index2edge[e_outdex]\n",
    "                    in_seq = self.edge2seq[e_index]\n",
    "                    out_seq = self.edge2seq[e_outdex]\n",
    "                    assert in_seq[-self.k+1:] == out_seq[:self.k-1]\n",
    "                    seq = in_seq + [out_seq[self.k-1]]\n",
    "                    self.edge2seq[e_index] = seq\n",
    "                    self.nx_graph.remove_edge(*in_edge)\n",
    "                    new_edge = (in_edge[0], out_edge[0], 0)\n",
    "                    self.nx_graph.add_edge(*new_edge)\n",
    "                    del self.edge2index[in_edge]\n",
    "                    self.edge2index[new_edge] = e_index\n",
    "                    self.index2edge[e_index] = new_edge\n",
    "\n",
    "            for e_outdex in out_indexes:\n",
    "                if len(ac[e_outdex]) == 1:\n",
    "                    e_index = ac[e_outdex][0]\n",
    "                    if len(ac[e_index]) == 1:\n",
    "                        continue\n",
    "                    in_edge = self.index2edge[e_index]\n",
    "                    out_edge = self.index2edge[e_outdex]\n",
    "                    in_seq = self.edge2seq[e_index]\n",
    "                    out_seq = self.edge2seq[e_outdex]\n",
    "                    assert in_seq[-self.k+1:] == out_seq[:self.k-1]\n",
    "                    seq = [in_seq[-self.k]] + out_seq\n",
    "                    self.edge2seq[e_outdex] = seq\n",
    "                    self.nx_graph.remove_edge(*out_edge)\n",
    "                    new_edge = (in_edge[1], out_edge[1], 0)\n",
    "                    self.nx_graph.add_edge(*new_edge)\n",
    "                    del self.edge2index[out_edge]\n",
    "                    self.edge2index[new_edge] = e_outdex\n",
    "                    self.index2edge[e_outdex] = new_edge\n",
    "\n",
    "            if self.nx_graph.in_degree(u) == self.nx_graph.out_degree(u) == 0:\n",
    "                self.nx_graph.remove_node(u)"
   ]
  },
  {
   "cell_type": "code",
   "execution_count": 1125,
   "metadata": {},
   "outputs": [],
   "source": [
    "class LightMappedDBGraph:\n",
    "    def __init__(self, nx_graph,\n",
    "                 edge2seq, edge2index, index2edge,\n",
    "                 max_edge_index, max_node_index,\n",
    "                 k,\n",
    "                 idb_mappings):\n",
    "        self.nx_graph = nx_graph\n",
    "        self.edge2seq = edge2seq\n",
    "        self.edge2index = edge2index\n",
    "        self.index2edge = index2edge\n",
    "        self.max_edge_index = max_edge_index\n",
    "        self.max_node_index = max_node_index\n",
    "        self.k = k\n",
    "        self.idb_mappings = idb_mappings\n",
    "\n",
    "    @classmethod\n",
    "    def fromDB(cls, db, string_set, neutral_symbs=None, raw_mappings=None):\n",
    "        if raw_mappings is None:\n",
    "            raw_mappings = db.map_strings(string_set,\n",
    "                only_unique_paths=True,\n",
    "                neutral_symbs=neutral_symbs)\n",
    "\n",
    "        nx_graph = nx.MultiDiGraph()\n",
    "        edge2seq = {}\n",
    "        edge_index = 0\n",
    "        edge2index = {}\n",
    "        index2edge = {}\n",
    "        for u, v, key, data in db.nx_graph.edges(data=True, keys=True):\n",
    "            nx_graph.add_edge(u, v, key)\n",
    "            edge2index[(u, v, key)] = edge_index\n",
    "            index2edge[edge_index] = (u, v, key)\n",
    "            edge2seq[edge_index] = list(data['string'])\n",
    "            edge_index += 1\n",
    "            \n",
    "        mappings = {}\n",
    "        for r_id, (raw_mapping, _, _) in raw_mappings.items():\n",
    "            mappings[r_id] = [edge2index[edge] for edge in raw_mapping]\n",
    "        \n",
    "        idb_mappings = IDBMapping(mappings)\n",
    "        max_node_index = 1 + max(nx_graph.nodes)\n",
    "\n",
    "        return cls(nx_graph=nx_graph,\n",
    "                   edge2seq=edge2seq,\n",
    "                   edge2index=edge2index,\n",
    "                   index2edge=index2edge,\n",
    "                   max_edge_index=edge_index,\n",
    "                   max_node_index=max_node_index,\n",
    "                   k=db.k,\n",
    "                   idb_mappings=idb_mappings)\n",
    "        \n",
    "    def move_edge(self, e1_st, e1_en, e1_key,\n",
    "                  e2_st, e2_en, e2_key=None):\n",
    "        old_edge = (e1_st, e1_en, e1_key)\n",
    "        i = self.edge2index[old_edge]\n",
    "        self.nx_graph.remove_edge(*old_edge)\n",
    "        e2_key = self.nx_graph.add_edge(e2_st, e2_en, key=e2_key)\n",
    "        new_edge = (e2_st, e2_en, e2_key)\n",
    "        self.edge2index[new_edge] = i\n",
    "        del self.edge2index[old_edge]\n",
    "        self.index2edge[i] = new_edge\n",
    "    \n",
    "    def remove_edge(self, edge):\n",
    "        self.idb_mappings.remove(self.edge2index[edge])\n",
    "        self.nx_graph.remove_edge(*edge)\n",
    "        index = self.edge2index[edge]\n",
    "        del self.edge2index[edge]\n",
    "        del self.index2edge[index]\n",
    "        del self.edge2seq[index]\n",
    "        \n",
    "        for e in list(self.nx_graph.in_edges(edge[1], keys=True)):\n",
    "            self.move_edge(*e, e[0], edge[0])\n",
    "        \n",
    "        for e in list(self.nx_graph.out_edges(edge[1], keys=True)):\n",
    "            self.move_edge(*e, edge[0], e[1])\n",
    "    \n",
    "    def get_new_vertex_index(self):\n",
    "        self.max_node_index += 1\n",
    "        return self.max_node_index - 1\n",
    "    \n",
    "    def merge_edges(self, e1, e2):\n",
    "        # merge edge e2 into e1\n",
    "        i = self.edge2index[e1]\n",
    "        j = self.edge2index[e2]\n",
    "        self.idb_mappings.merge(e1, e2)\n",
    "        in_seq = self.edge2seq[i]\n",
    "        out_seq = self.edge2seq[j]\n",
    "        assert in_seq[-self.k+1:] == out_seq[:self.k-1]\n",
    "        seq = in_seq + out_seq[self.k-1:]\n",
    "        self.edge2seq[i] = seq\n",
    "        self.remove_edge(e2)\n",
    "        self.move_edge(*e1, e1[0], e2[1])\n",
    "        \n",
    "    def add_edge(self, i, j, seq):\n",
    "        in_edge = self.index2edge[i]\n",
    "        out_edge = self.index2edge[j]\n",
    "        new_edge = (in_edge[1], out_edge[0])\n",
    "        key = self.nx_graph.add_edge(*new_edge)\n",
    "        new_edge = (*new_edge, key)\n",
    "        self.edge2index[new_edge] = self.max_edge_index\n",
    "        self.index2edge[self.max_edge_index] = new_edge\n",
    "        self.edge2seq[self.max_edge_index] = seq\n",
    "        self.max_edge_index += 1\n",
    "        \n",
    "    def __process_vertex(self, u):\n",
    "        def process_simple():\n",
    "            if indegree == 1 and outdegree == 1:\n",
    "                # node on nonbranching path - should not be happening\n",
    "                assert False\n",
    "\n",
    "            if indegree == 0 and outdegree == 0:\n",
    "                # isolate - should be removed\n",
    "                self.nx_graph.remove_node(u)\n",
    "\n",
    "            elif indegree == 0 and outdegree > 0:\n",
    "                # starting vertex\n",
    "                for j in out_indexes[1:]:\n",
    "                    old_edge = self.index2edge[j]\n",
    "                    new_edge = (self.get_new_vertex_index(), old_edge[1], 0)\n",
    "                    self.move_edge(*old_edge, *new_edge)\n",
    "\n",
    "            elif indegree > 0 and outdegree == 0:\n",
    "                # ending vertex\n",
    "                for i in in_indexes[1:]:\n",
    "                    old_edge = self.index2edge[i]\n",
    "                    new_edge = (old_edge[0], self.get_new_vertex_index(), 0)\n",
    "                    self.move_edge(*old_edge, *new_edge)\n",
    "\n",
    "            elif indegree == 1 and outdegree > 1:\n",
    "                # simple 1-in vertex\n",
    "                assert len(in_indexes) == 1\n",
    "                in_index = in_indexes[0]\n",
    "                in_seq = self.edge2seq[in_index]\n",
    "                c = in_seq[-self.k]\n",
    "                for j in out_indexes:\n",
    "                    assert self.edge2seq[j][:self.k-1] == in_seq[-self.k+1:]\n",
    "                    self.edge2seq[j].insert(0, c)\n",
    "\n",
    "            elif indegree > 1 and outdegree == 1:\n",
    "                # simple 1-out vertex\n",
    "                assert len(out_indexes) == 1\n",
    "                out_index = out_indexes[0]\n",
    "                out_seq = self.edge2seq[out_index]\n",
    "                c = out_seq[self.k-1]\n",
    "                for i in in_indexes:\n",
    "                    assert self.edge2seq[i][-self.k+1:] == out_seq[:self.k-1]\n",
    "                    self.edge2seq[i].append(c)\n",
    "\n",
    "        def process_complex():\n",
    "            # complex vertex\n",
    "            for i in in_indexes:\n",
    "                old_edge = self.index2edge[i]\n",
    "                new_edge = (old_edge[0], self.get_new_vertex_index(), 0)\n",
    "                self.move_edge(*old_edge, *new_edge)\n",
    "\n",
    "            for j in out_indexes:\n",
    "                old_edge = self.index2edge[j]\n",
    "                new_edge = (self.get_new_vertex_index(), old_edge[1], 0)\n",
    "                self.move_edge(*old_edge, *new_edge)\n",
    "            \n",
    "            all_ac = self.idb_mappings.get_active_connections()\n",
    "            ac_s2e = defaultdict(set)\n",
    "            ac_e2s = defaultdict(set)\n",
    "            for e_in in in_indexes:\n",
    "                for e_out in out_indexes:\n",
    "                    if (e_in, e_out) in all_ac:\n",
    "                        ac_s2e[e_in].add(e_out)\n",
    "                        ac_e2s[e_out].add(e_in)\n",
    "\n",
    "            merged = {}\n",
    "            for i in ac_s2e:\n",
    "                for j in ac_s2e[i]:\n",
    "                    if i in merged:\n",
    "                        i = merged[i]\n",
    "                    if j in merged:\n",
    "                        j = merged[j]\n",
    "                    e_i = self.index2edge[i]\n",
    "                    e_j = self.index2edge[j]\n",
    "                    in_seq = self.edge2seq[i]\n",
    "                    out_seq = self.edge2seq[j]\n",
    "                    assert in_seq[-self.k+1:] == out_seq[:self.k-1]\n",
    "                    if len(ac_s2e[i]) == len(ac_e2s[j]) == 1:\n",
    "                        self.merge_edges(e_i, e_j)\n",
    "                        merged[j] = i\n",
    "                    elif len(ac_s2e[i]) >= 2 and len(ac_e2s[j]) >= 2:\n",
    "                        seq = in_seq[-self.k:] + [out_seq[self.k-1]]\n",
    "                        assert len(seq) == self.k + 1\n",
    "                        self.add_edge(i, j, seq)\n",
    "                    elif len(ac_s2e[i]) == 1 and len(ac_e2s[j]) >= 2:\n",
    "                        # extend left edge to the right\n",
    "                        self.move_edge(*e_i, e_i[0], e_j[0])\n",
    "                        seq = in_seq + [out_seq[self.k-1]]\n",
    "                        self.edge2seq[i] = seq\n",
    "                    elif len(ac_e2s[j]) == 1 and len(ac_s2e[i]) >= 2:\n",
    "                        # extend right edge to the left\n",
    "                        self.move_edge(*e_j, e_i[1], e_j[1])\n",
    "                        seq = [in_seq[-self.k]] + out_seq\n",
    "                        self.edge2seq[j] = seq\n",
    "                    else:\n",
    "                        print(len(ac[i]), len(ac[j]))\n",
    "                        assert False\n",
    "            \n",
    "            self.nx_graph.remove_node(u)\n",
    "        \n",
    "        in_indexes = [self.edge2index[e_in]\n",
    "                      for e_in in self.nx_graph.in_edges(u, keys=True)]\n",
    "        out_indexes = [self.edge2index[e_out]\n",
    "                       for e_out in self.nx_graph.out_edges(u, keys=True)]\n",
    "\n",
    "        indegree = self.nx_graph.in_degree(u)\n",
    "        outdegree = self.nx_graph.out_degree(u)\n",
    "\n",
    "        if indegree >= 2 and outdegree >= 2:\n",
    "            process_complex()\n",
    "        else:\n",
    "            process_simple()\n",
    "\n",
    "    def assert_validity(self):\n",
    "        self.max_edge_index == 1 + max(self.index2edge)\n",
    "        self.max_node_index == 1 + max(self.nx_graph.nodes)\n",
    "        edges = set(self.nx_graph.edges(keys=True))\n",
    "        assert edges == set(self.edge2index.keys())\n",
    "        assert edges == set(self.index2edge.values())\n",
    "        assert all(edge == self.index2edge[self.edge2index[edge]]\n",
    "                   for edge in self.edge2index)\n",
    "        for node in self.nx_graph.nodes:\n",
    "            for in_edge in self.nx_graph.in_edges(node, keys=True):\n",
    "                e_index = self.edge2index[in_edge]\n",
    "                in_seq = self.edge2seq[e_index]\n",
    "                for out_edge in self.nx_graph.out_edges(node, keys=True):\n",
    "                    e_outdex = self.edge2index[out_edge]\n",
    "                    out_seq = self.edge2seq[e_outdex]\n",
    "                    assert in_seq[-self.k+1:] == out_seq[:self.k-1]\n",
    "        \n",
    "    def increase_k_by_one(self):           \n",
    "        for u in list(self.nx_graph.nodes):\n",
    "            self.__process_vertex(u)\n",
    "\n",
    "        self.k += 1\n",
    "        collapsed_edges = [edge for edge in self.nx_graph.edges\n",
    "                           if len(self.edge2seq[self.edge2index[edge]]) == self.k - 1]\n",
    "        [self.remove_edge(edge) for edge in collapsed_edges]  # remove collapsed edges\n",
    "        \n",
    "        self.assert_validity()\n",
    "        \n",
    "    def toDB(self):\n",
    "        nx_graph = nx.MultiDiGraph()\n",
    "        nodeindex2label = {}\n",
    "        nodelabel2index = {}\n",
    "        for i, (u, v, key) in self.index2edge.items():\n",
    "            print(u, v, key)\n",
    "            seq = tuple(self.edge2seq[i])\n",
    "            u_label = seq[:self.k-1]\n",
    "            v_label = seq[-self.k+1:]\n",
    "            nodelabel2index[u_label] = u\n",
    "            nodelabel2index[v_label] = v\n",
    "            nodeindex2label[u] = u_label\n",
    "            nodeindex2label[v] = v_label\n",
    "            edge_len = len(seq) - self.k + 1\n",
    "            cov = [1] * edge_len\n",
    "            mean_cov = np.mean(cov)\n",
    "            label = f'index={i}\\nlen={edge_len}\\ncov={mean_cov:0.2f}'\n",
    "            nx_graph.add_edge(u, v, key=key,\n",
    "                              coverage=cov,\n",
    "                              edge_index=i,\n",
    "                              edge_len=edge_len,\n",
    "                              label=label,\n",
    "                              string=seq,\n",
    "                              color='black')\n",
    "        print(nodelabel2index)\n",
    "        print(nx_graph.nodes)\n",
    "        print(len(nodelabel2index), len(nodelabel2index), len(nx_graph.nodes))\n",
    "        db = DeBruijnGraph(k=self.k,\n",
    "                           nx_graph=nx_graph,\n",
    "                           nodeindex2label=nodeindex2label,\n",
    "                           nodelabel2index=nodelabel2index)\n",
    "        return db"
   ]
  },
  {
   "cell_type": "code",
   "execution_count": 1129,
   "metadata": {},
   "outputs": [],
   "source": [
    "# graph with a loop\n",
    "\n",
    "class DBLoop3:\n",
    "    k=3\n",
    "    nx_graph = nx.MultiDiGraph()\n",
    "    nx_graph.add_edge(0, 1, string='CCAA')\n",
    "    nx_graph.add_edge(1, 1, string='AACAA')\n",
    "    nx_graph.add_edge(1, 1, string='AAGAA')\n",
    "    nx_graph.add_edge(1, 2, string='AATT')\n",
    "    nx_graph.add_edge(3, 1, string='GGAA')\n",
    "    nx_graph.add_edge(1, 4, string='AARR')\n",
    "\n",
    "lightdb = LightMappedDBGraph.fromDB(DBLoop3(), string_set={},\n",
    "                                    raw_mappings={0: ([(0, 1, 0), (1, 1, 0), (1, 2, 0)], 0, 0),\n",
    "                                                  1: ([(3, 1, 0), (1, 1, 1), (1, 1, 1), (1, 4, 0)], 0, 0),\n",
    "                                                  2: ([(3, 1, 0), (1, 2, 0)], 0, 0)})\n",
    "lightdb.increase_k_by_one()\n",
    "assert [(edge, lightdb.edge2index[edge]) for edge in lightdb.nx_graph.edges] == \\\n",
    "    [((0, 11, 0), 0), ((3, 8, 0), 5), ((7, 10, 0), 6), ((7, 4, 0), 4), ((8, 10, 0), 7), ((8, 11, 0), 8),\n",
    "     ((10, 7, 0), 2), ((11, 2, 0), 3)]\n",
    "lightdb.edge2seq\n",
    "assert lightdb.edge2seq == \\\n",
    "    {0: ['C', 'C', 'A', 'A', 'C', 'A', 'A', 'T'],\n",
    "     2: ['A', 'A', 'G', 'A', 'A'],\n",
    "     3: ['A', 'A', 'T', 'T'],\n",
    "     4: ['G', 'A', 'A', 'R', 'R'],\n",
    "     5: ['G', 'G', 'A', 'A'],\n",
    "     6: ['G', 'A', 'A', 'G'],\n",
    "     7: ['G', 'A', 'A', 'G'],\n",
    "     8: ['G', 'A', 'A', 'T']}"
   ]
  },
  {
   "cell_type": "code",
   "execution_count": 1063,
   "metadata": {},
   "outputs": [],
   "source": [
    "# graph with a loop\n",
    "\n",
    "class DBLoop2:\n",
    "    k=3\n",
    "    nx_graph = nx.MultiDiGraph()\n",
    "    nx_graph.add_edge(0, 1, string='CCAA')\n",
    "    nx_graph.add_edge(1, 1, string='AACAA')\n",
    "    nx_graph.add_edge(1, 1, string='AAGAA')\n",
    "    nx_graph.add_edge(1, 2, string='AATT')\n",
    "\n",
    "lightdb = LightMappedDBGraph.fromDB(DBLoop2(), string_set={},\n",
    "                                    raw_mappings={0: ([(0, 1, 0), (1, 1, 0), (1, 2, 0)], 0, 0),\n",
    "                                                  1: ([(0, 1, 0), (1, 1, 1), (1, 2, 0)], 0, 0)})\n",
    "lightdb.increase_k_by_one()\n",
    "assert [(edge, lightdb.edge2index[edge]) for edge in lightdb.nx_graph.edges] == \\\n",
    "    [((0, 3, 0), 0), ((3, 8, 0), 1), ((3, 8, 1), 2), ((8, 2, 0), 3)]\n",
    "lightdb.edge2seq\n",
    "assert lightdb.edge2seq == \\\n",
    "    {0: ['C', 'C', 'A', 'A'],\n",
    "     1: ['C', 'A', 'A', 'C', 'A', 'A', 'T'],\n",
    "     2: ['C', 'A', 'A', 'G', 'A', 'A', 'T'],\n",
    "     3: ['A', 'A', 'T', 'T']}"
   ]
  },
  {
   "cell_type": "code",
   "execution_count": 1064,
   "metadata": {
    "scrolled": false
   },
   "outputs": [],
   "source": [
    "# graph with a loop\n",
    "\n",
    "class DBLoop:\n",
    "    k=3\n",
    "    nx_graph = nx.MultiDiGraph()\n",
    "    nx_graph.add_edge(0, 1, string='CCAA')\n",
    "    nx_graph.add_edge(1, 1, string='AACAA')\n",
    "    nx_graph.add_edge(1, 2, string='AATT')\n",
    "\n",
    "lightdb = LightMappedDBGraph.fromDB(DBLoop(), string_set={},\n",
    "                                    raw_mappings={0: ([(0, 1, 0), (1, 1, 0)], 0, 0),\n",
    "                                                  1: ([(1, 1, 0), (1, 2, 0)], 0, 0)})\n",
    "lightdb.increase_k_by_one()\n",
    "assert [(edge, lightdb.edge2index[edge]) for edge in lightdb.nx_graph.edges] == \\\n",
    "    [((0, 2, 0), 0)]\n",
    "lightdb.edge2seq\n",
    "assert lightdb.edge2seq == \\\n",
    "    {0: ['C', 'C', 'A', 'A', 'C', 'A', 'A', 'T', 'T']}"
   ]
  },
  {
   "cell_type": "code",
   "execution_count": 1065,
   "metadata": {
    "scrolled": false
   },
   "outputs": [
    {
     "name": "stdout",
     "output_type": "stream",
     "text": [
      "[((0, 5, 0), 0), ((1, 8, 0), 3), ((5, 3, 0), 1), ((5, 8, 0), 4), ((8, 4, 0), 2)]\n",
      "{0: ['A', 'C', 'A', 'A', 'A'], 1: ['A', 'A', 'A', 'T', 'G', 'C'], 2: ['A', 'A', 'T', 'T'], 3: ['G', 'G', 'A', 'A', 'A', 'T'], 4: ['A', 'A', 'A', 'T']}\n"
     ]
    }
   ],
   "source": [
    "# graph with a complex vertex\n",
    "\n",
    "class DBComplexVertex1:\n",
    "    k=3\n",
    "    nx_graph = nx.MultiDiGraph()\n",
    "    nx_graph.add_edge(0, 2, string='ACAAA')\n",
    "    nx_graph.add_edge(1, 2, string='GGAAA')\n",
    "    nx_graph.add_edge(2, 3, string='AATGC')\n",
    "    nx_graph.add_edge(2, 4, string='AATT')\n",
    "\n",
    "lightdb = LightMappedDBGraph.fromDB(DBComplexVertex1(), string_set={},\n",
    "                                    raw_mappings={0: ([(0, 2, 0), (2, 3, 0)], 0, 0),\n",
    "                                                  1: ([(0, 2, 0), (2, 4, 0)], 0, 0),\n",
    "                                                  2: ([(1, 2, 0), (2, 4, 0)], 0, 0)})\n",
    "assert [(edge, lightdb.edge2index[edge]) for edge in lightdb.nx_graph.edges] == \\\n",
    "    [((0, 2, 0), 0), ((2, 3, 0), 1), ((2, 4, 0), 2), ((1, 2, 0), 3)]\n",
    "lightdb.increase_k_by_one()\n",
    "print([(edge, lightdb.edge2index[edge]) for edge in lightdb.nx_graph.edges])\n",
    "print(lightdb.edge2seq)\n",
    "assert [(edge, lightdb.edge2index[edge]) for edge in lightdb.nx_graph.edges] == \\\n",
    "    [((0, 5, 0), 0), ((1, 8, 0), 3), ((5, 3, 0), 1), ((5, 8, 0), 4), ((8, 4, 0), 2)]\n",
    "assert lightdb.edge2seq == \\\n",
    "    {0: ['A', 'C', 'A', 'A', 'A'],\n",
    "     1: ['A', 'A', 'A', 'T', 'G', 'C'],\n",
    "     2: ['A', 'A', 'T', 'T'],\n",
    "     3: ['G', 'G', 'A', 'A', 'A', 'T'],\n",
    "     4: ['A', 'A', 'A', 'T']}"
   ]
  },
  {
   "cell_type": "code",
   "execution_count": 1066,
   "metadata": {},
   "outputs": [],
   "source": [
    "# graph with a complex vertex\n",
    "\n",
    "class DBComplexVertex3:\n",
    "    k=3\n",
    "    nx_graph = nx.MultiDiGraph()\n",
    "    nx_graph.add_edge(0, 2, string='CCAC')\n",
    "    nx_graph.add_edge(1, 2, string='TTAC')\n",
    "    nx_graph.add_edge(2, 5, string='ACG')\n",
    "    nx_graph.add_edge(3, 5, string='AACG')\n",
    "    nx_graph.add_edge(5, 4, string='CGTA')\n",
    "    nx_graph.add_edge(5, 6, string='CGA')\n",
    "    nx_graph.add_edge(6, 7, string='GACC')\n",
    "    nx_graph.add_edge(6, 8, string='GATT')\n",
    "    \n",
    "\n",
    "lightdb = LightMappedDBGraph.fromDB(DBComplexVertex3(), string_set={},\n",
    "                                    raw_mappings={0: ([(0, 2, 0), (2, 5, 0), (5, 6, 0), (6, 7, 0)], 0, 0),\n",
    "                                                  1: ([(1, 2, 0), (2, 5, 0), (5, 4, 0)], 0, 0),\n",
    "                                                  2: ([(3, 5, 0), (5, 6, 0), (6, 8, 0)], 0, 0)})\n",
    "assert [(edge, lightdb.edge2index[edge]) for edge in lightdb.nx_graph.edges] == \\\n",
    "    [((0, 2, 0), 0), ((2, 5, 0), 1), ((5, 4, 0), 3), ((5, 6, 0), 4), ((1, 2, 0), 2),\n",
    "     ((6, 7, 0), 6), ((6, 8, 0), 7), ((3, 5, 0), 5)]\n",
    "lightdb.increase_k_by_one()\n",
    "assert [(edge, lightdb.edge2index[edge]) for edge in lightdb.nx_graph.edges] == \\\n",
    "    [((0, 2, 0), 0), ((2, 4, 0), 3), ((2, 12, 0), 8), ((1, 2, 0), 2), ((3, 12, 0), 5),\n",
    "     ((12, 7, 0), 6), ((12, 8, 0), 7)]\n",
    "assert lightdb.edge2seq == \\\n",
    "    {0: ['C', 'C', 'A', 'C', 'G'],\n",
    "     2: ['T', 'T', 'A', 'C', 'G'],\n",
    "     3: ['A', 'C', 'G', 'T', 'A'],\n",
    "     5: ['A', 'A', 'C', 'G', 'A'],\n",
    "     6: ['C', 'G', 'A', 'C', 'C'],\n",
    "     7: ['C', 'G', 'A', 'T', 'T'],\n",
    "     8: ['A', 'C', 'G', 'A']}"
   ]
  },
  {
   "cell_type": "code",
   "execution_count": 1067,
   "metadata": {},
   "outputs": [],
   "source": [
    "# graph with a complex vertex\n",
    "\n",
    "class DBComplexVertex2:\n",
    "    k=3\n",
    "    nx_graph = nx.MultiDiGraph()\n",
    "    nx_graph.add_edge(0, 2, string='ACAAA')\n",
    "    nx_graph.add_edge(1, 2, string='GGAAA')\n",
    "    nx_graph.add_edge(2, 3, string='AATGC')\n",
    "    nx_graph.add_edge(2, 4, string='AATT')\n",
    "\n",
    "lightdb = LightMappedDBGraph.fromDB(DBComplexVertex2(), string_set={},\n",
    "                                    raw_mappings={0: ([(0, 2, 0), (2, 3, 0)], 0, 0),\n",
    "                                                  1: ([(0, 2, 0), (2, 4, 0)], 0, 0),\n",
    "                                                  2: ([(1, 2, 0), (2, 4, 0)], 0, 0),\n",
    "                                                  3: ([(1, 2, 0), (2, 3, 0)], 0, 0)})\n",
    "assert [(edge, lightdb.edge2index[edge]) for edge in lightdb.nx_graph.edges] == \\\n",
    "    [((0, 2, 0), 0), ((2, 3, 0), 1), ((2, 4, 0), 2), ((1, 2, 0), 3)]\n",
    "lightdb.increase_k_by_one()\n",
    "assert [(edge, lightdb.edge2index[edge]) for edge in lightdb.nx_graph.edges] == \\\n",
    "    [((0, 5, 0), 0), ((1, 6, 0), 3), ((5, 7, 0), 4), ((5, 8, 0), 5), ((6, 7, 0), 6),\n",
    "     ((6, 8, 0), 7), ((7, 3, 0), 1), ((8, 4, 0), 2)]\n",
    "assert lightdb.edge2seq == \\\n",
    "    {0: ['A', 'C', 'A', 'A', 'A'],\n",
    "     1: list('AATGC'),\n",
    "     2: list('AATT'),\n",
    "     3: ['G', 'G', 'A', 'A', 'A'],\n",
    "     4: list('AAAT'),\n",
    "     5: list('AAAT'),\n",
    "     6: list('AAAT'),\n",
    "     7: list('AAAT')}"
   ]
  },
  {
   "cell_type": "code",
   "execution_count": 1068,
   "metadata": {},
   "outputs": [],
   "source": [
    "# graph starting vertex\n",
    "\n",
    "class DBStVertex:\n",
    "    k=3\n",
    "    nx_graph = nx.MultiDiGraph()\n",
    "    nx_graph.add_edge(0, 1, string='AAAAA')\n",
    "    nx_graph.add_edge(0, 2, string='AAACA')\n",
    "    nx_graph.add_edge(0, 3, string='AAA')    \n",
    "\n",
    "    \n",
    "lightdb = LightMappedDBGraph.fromDB(DBStVertex(), string_set={}, raw_mappings={0: ([(0, 1, 0)], 0, 0),\n",
    "                                                                               1: ([(0, 2, 0)], 0, 0),\n",
    "                                                                               2: ([(0, 3, 0)], 0, 0)})\n",
    "assert lightdb.idb_mappings.mappings == {0: [0], 1: [1], 2: [2]}\n",
    "lightdb.increase_k_by_one()\n",
    "assert [(edge, lightdb.edge2index[edge]) for edge in lightdb.nx_graph.edges] == \\\n",
    "        [((0, 1, 0), 0), ((4, 2, 0), 1)]\n",
    "assert lightdb.idb_mappings.mappings == {0: [0], 1: [1], 2: []}"
   ]
  },
  {
   "cell_type": "code",
   "execution_count": 1069,
   "metadata": {},
   "outputs": [],
   "source": [
    "# graph ending vertex\n",
    "\n",
    "class DBEnVertex:\n",
    "    k=3\n",
    "    nx_graph = nx.MultiDiGraph()\n",
    "    nx_graph.add_edge(0, 3, string='AAAA')\n",
    "    nx_graph.add_edge(1, 3, string='AACA')\n",
    "    nx_graph.add_edge(2, 3, string='AAA')\n",
    "    \n",
    "\n",
    "\n",
    "lightdb = LightMappedDBGraph.fromDB(DBEnVertex(), string_set={}, raw_mappings={0: ([(0, 3, 0)], 0, 0),\n",
    "                                                                               1: ([(1, 3, 0)], 0, 0),\n",
    "                                                                               2: ([(2, 3, 0)], 0, 0)})\n",
    "assert lightdb.idb_mappings.mappings == {0: [0], 1: [1], 2: [2]}\n",
    "lightdb.increase_k_by_one()\n",
    "assert [(edge, lightdb.edge2index[edge]) for edge in lightdb.nx_graph.edges] == \\\n",
    "        [((0, 3, 0), 0), ((1, 4, 0), 1)]\n",
    "assert lightdb.idb_mappings.mappings == {0: [0], 1: [1], 2: []}"
   ]
  },
  {
   "cell_type": "code",
   "execution_count": 1070,
   "metadata": {},
   "outputs": [],
   "source": [
    "# graph 1-in >1-out\n",
    "\n",
    "class DB1inVertex:\n",
    "    k=3\n",
    "    nx_graph = nx.MultiDiGraph()\n",
    "    nx_graph.add_edge(0, 1, string='AACAG')\n",
    "    nx_graph.add_edge(1, 2, string='AGACC')\n",
    "    nx_graph.add_edge(1, 3, string='AGATT')\n",
    "    nx_graph.add_edge(1, 4, string='AGAGG')\n",
    "    \n",
    "\n",
    "lightdb = LightMappedDBGraph.fromDB(DB1inVertex(), string_set={}, raw_mappings={})\n",
    "assert [lightdb.edge2seq[lightdb.edge2index[edge]] for edge in lightdb.nx_graph.edges] == \\\n",
    "    [list('AACAG'), ['A', 'G', 'A', 'C', 'C'], ['A', 'G', 'A', 'T', 'T'], ['A', 'G', 'A', 'G', 'G']]\n",
    "lightdb.increase_k_by_one()\n",
    "assert [lightdb.edge2seq[lightdb.edge2index[edge]] for edge in lightdb.nx_graph.edges] == \\\n",
    "    [list('AACAG'), ['C', 'A', 'G', 'A', 'C', 'C'], ['C', 'A', 'G', 'A', 'T', 'T'], ['C', 'A', 'G', 'A', 'G', 'G']]"
   ]
  },
  {
   "cell_type": "code",
   "execution_count": 1071,
   "metadata": {},
   "outputs": [],
   "source": [
    "# graph >1-in 1-out\n",
    "\n",
    "class DB1outVertex:\n",
    "    k=3\n",
    "    nx_graph = nx.MultiDiGraph()\n",
    "    nx_graph.add_edge(0, 3, string='CCAGA')\n",
    "    nx_graph.add_edge(1, 3, string='TTAGA')\n",
    "    nx_graph.add_edge(2, 3, string='GGAGA')\n",
    "    nx_graph.add_edge(3, 4, string='GAAAA')\n",
    "    \n",
    "\n",
    "lightdb = LightMappedDBGraph.fromDB(DB1outVertex(), string_set={}, raw_mappings={})\n",
    "assert sorted([lightdb.edge2seq[lightdb.edge2index[edge]] for edge in lightdb.nx_graph.edges]) == \\\n",
    "    sorted([list('CCAGA'), list('TTAGA'), list('GGAGA'), list('GAAAA')])\n",
    "lightdb.increase_k_by_one()\n",
    "assert sorted([lightdb.edge2seq[lightdb.edge2index[edge]] for edge in lightdb.nx_graph.edges]) == \\\n",
    "    sorted([list('CCAGAA'), list('TTAGAA'), list('GGAGAA'), list('GAAAA')])"
   ]
  },
  {
   "cell_type": "code",
   "execution_count": 1164,
   "metadata": {},
   "outputs": [],
   "source": [
    "# real graph\n",
    "\n",
    "lightdb = LightMappedDBGraph.fromDB(dbs_assembly[k], string_set=monoreads_set, neutral_symbs=set('?'),\n",
    "                                    raw_mappings=mappings)"
   ]
  },
  {
   "cell_type": "code",
   "execution_count": 1165,
   "metadata": {},
   "outputs": [],
   "source": [
    "K = 302"
   ]
  },
  {
   "cell_type": "code",
   "execution_count": 1166,
   "metadata": {},
   "outputs": [
    {
     "name": "stdout",
     "output_type": "stream",
     "text": [
      "0 None\n",
      "1 None\n"
     ]
    }
   ],
   "source": [
    "for i in range(K-k):\n",
    "    print(i, lightdb.increase_k_by_one())"
   ]
  },
  {
   "cell_type": "code",
   "execution_count": 1167,
   "metadata": {},
   "outputs": [
    {
     "name": "stdout",
     "output_type": "stream",
     "text": [
      "3791 3804 0\n",
      "3790 3791 1\n",
      "3804 3803 0\n",
      "3804 753 0\n",
      "3811 106 0\n",
      "3795 3791 0\n",
      "3795 486 0\n",
      "3803 3790 0\n",
      "106 3805 0\n",
      "106 3787 0\n",
      "106 2728 0\n",
      "486 106 0\n",
      "753 955 0\n",
      "955 1039 0\n",
      "955 1039 1\n",
      "1039 1073 0\n",
      "1073 753 0\n",
      "1073 3811 0\n",
      "3787 3795 0\n",
      "3787 486 0\n",
      "3790 3791 0\n",
      "3806 3795 0\n",
      "106 3803 0\n",
      "3795 3811 0\n",
      "{(2, 3, 4, 5, 6, 7, 8, 9, 10, 11, 0, 1, 2, 3, 4, 5, 6, 7, 8, 9, 10, 11, 0, 1, 2, 3, 4, 5, 6, 7, 8, 9, 10, 11, 0, 1, 2, 3, 4, 5, 6, 7, 8, 9, 10, 11, 0, 1, 2, 3, 4, 5, 6, 7, 8, 9, 10, 11, 0, 1, 2, 3, 4, 5, 6, 7, 8, 9, 10, 11, 0, 1, 2, 3, 4, 5, 6, 7, 8, 9, 10, 11, 0, 1, 2, 3, 4, 5, 6, 7, 8, 9, 10, 11, 0, 1, 2, 3, 4, 5, 6, 7, 8, 9, 10, 11, 0, 1, 2, 3, 4, 5, 6, 7, 8, 9, 10, 11, 0, 1, 2, 3, 4, 5, 6, 7, 8, 9, 10, 11, 0, 1, 2, 3, 4, 5, 6, 7, 8, 9, 10, 11, 0, 1, 2, 3, 4, 5, 6, 7, 8, 9, 10, 11, 0, 1, 2, 3, 4, 5, 6, 7, 8, 9, 10, 11, 0, 1, 2, 3, 4, 5, 6, 7, 8, 9, 10, 11, 0, 1, 2, 3, 4, 5, 6, 7, 8, 9, 10, 11, 0, 1, 2, 3, 4, 5, 6, 7, 8, 9, 10, 11, 0, 1, 2, 3, 4, 5, 6, 7, 8, 9, 10, 11, 0, 1, 2, 3, 4, 5, 6, 7, 8, 9, 10, 11, 0, 1, 2, 3, 4, 5, 6, 7, 8, 9, 10, 11, 0, 1, 2, 3, 4, 5, 6, 7, 8, 9, 10, 11, 0, 1, 2, 3, 4, 5, 6, 7, 8, 9, 10, 11, 0, 1, 2, 3, 4, 5, 6, 7, 8, 9, 10, 11, 0, 1, 2, 3, 4, 5, 6, 7, 8, 9, 10, 11, 0, 1, 2, 3, 4, 5, 6, 7, 8, 9, 10, 11, 0, 1, 2): 3791, (4, 5, 6, 7, 8, 9, 10, 11, 0, 1, 2, 3, 4, 5, 6, 7, 8, 9, 10, 11, 0, 1, 2, 3, 4, 5, 6, 7, 8, 9, 10, 11, 0, 1, 2, 3, 4, 5, 6, 7, 8, 9, 10, 11, 0, 1, 2, 3, 4, 5, 6, 7, 8, 9, 10, 11, 0, 1, 2, 3, 4, 5, 6, 7, 8, 9, 10, 11, 0, 1, 2, 3, 4, 5, 6, 7, 8, 9, 10, 11, 0, 1, 2, 3, 4, 5, 6, 7, 8, 9, 10, 11, 0, 1, 2, 3, 4, 5, 6, 7, 8, 9, 10, 11, 0, 1, 2, 3, 4, 5, 6, 7, 8, 9, 10, 11, 0, 1, 2, 3, 4, 5, 6, 7, 8, 9, 10, 11, 0, 1, 2, 3, 4, 5, 6, 7, 8, 9, 10, 11, 0, 1, 2, 3, 4, 5, 6, 7, 8, 9, 10, 11, 0, 1, 2, 3, 4, 5, 6, 7, 8, 9, 10, 11, 0, 1, 2, 3, 4, 5, 6, 7, 8, 9, 10, 11, 0, 1, 2, 3, 4, 5, 6, 7, 8, 9, 10, 11, 0, 1, 2, 3, 4, 5, 6, 7, 8, 9, 10, 11, 0, 1, 2, 3, 4, 5, 6, 7, 8, 9, 10, 11, 0, 1, 2, 3, 4, 5, 6, 7, 8, 9, 10, 11, 0, 1, 2, 3, 4, 5, 6, 7, 8, 9, 10, 11, 0, 1, 2, 3, 4, 5, 6, 7, 8, 9, 10, 11, 0, 1, 2, 3, 4, 5, 6, 7, 8, 9, 10, 11, 0, 1, 2, 3, 4, 5, 6, 7, 8, 9, 10, 11, 0, 1, 2, 3, 4, 5, 6, 7, 8, 9, 10, 11, 0, 1, 2, 3, 4, 5, 6, 7, 8, 9, 10, 11, 0, 1, 2, 3, 4): 3804, (0, 1, 2, 3, 4, 5, 6, 7, 8, 9, 10, 11, 0, 1, 2, 3, 4, 5, 6, 7, 8, 9, 10, 11, 0, 1, 2, 3, 4, 5, 6, 7, 8, 9, 10, 11, 0, 1, 2, 3, 4, 5, 6, 7, 8, 9, 10, 11, 0, 1, 2, 3, 4, 5, 6, 7, 8, 9, 10, 11, 0, 1, 2, 3, 4, 5, 6, 7, 8, 9, 10, 11, 0, 1, 2, 3, 4, 5, 6, 7, 8, 9, 10, 11, 0, 1, 2, 3, 4, 5, 6, 7, 8, 9, 10, 11, 0, 1, 2, 3, 4, 5, 6, 7, 8, 9, 10, 11, 0, 1, 2, 3, 4, 5, 6, 7, 8, 9, 10, 11, 0, 1, 2, 3, 4, 5, 6, 7, 8, 9, 10, 11, 0, 1, 2, 3, 4, 5, 6, 7, 8, 9, 10, 11, 0, 1, 2, 3, 4, 5, 6, 7, 8, 9, 10, 11, 0, 1, 2, 3, 4, 5, 6, 7, 8, 9, 10, 11, 0, 1, 2, 3, 4, 5, 6, 7, 8, 9, 10, 11, 0, 1, 2, 3, 4, 5, 6, 7, 8, 9, 10, 11, 0, 1, 2, 3, 4, 5, 6, 7, 8, 9, 10, 11, 0, 1, 2, 3, 4, 5, 6, 7, 8, 9, 10, 11, 0, 1, 2, 3, 4, 5, 6, 7, 8, 9, 10, 11, 0, 1, 2, 3, 4, 5, 6, 7, 8, 9, 10, 11, 0, 1, 2, 3, 4, 5, 6, 7, 8, 9, 10, 11, 0, 1, 2, 3, 4, 5, 6, 7, 8, 9, 10, 11, 0, 1, 2, 3, 4, 5, 6, 7, 8, 9, 10, 11, 0, 1, 2, 3, 4, 5, 6, 7, 8, 9, 10, 11, 0, 1, 2, 3, 4, 5, 6, 7, 8, 9, 10, 11, 0): 3790, (11, 0, 1, 2, 3, 4, 5, 6, 7, 8, 9, 10, 11, 0, 1, 2, 3, 4, 5, 6, 7, 8, 9, 10, 11, 0, 1, 2, 3, 4, 5, 6, 7, 8, 9, 10, 11, 0, 1, 2, 3, 4, 5, 6, 7, 8, 9, 10, 11, 0, 1, 2, 3, 4, 5, 6, 7, 8, 9, 10, 11, 0, 1, 2, 3, 4, 5, 6, 7, 8, 9, 10, 11, 0, 1, 2, 3, 4, 5, 6, 7, 8, 9, 10, 11, 0, 1, 2, 3, 4, 5, 6, 7, 8, 9, 10, 11, 0, 1, 2, 3, 4, 5, 6, 7, 8, 9, 10, 11, 0, 1, 2, 3, 4, 5, 6, 7, 8, 9, 10, 11, 0, 1, 2, 3, 4, 5, 6, 7, 8, 9, 10, 11, 0, 1, 2, 3, 4, 5, 6, 7, 8, 9, 10, 11, 0, 1, 2, 3, 4, 5, 6, 7, 8, 9, 10, 11, 0, 1, 2, 3, 4, 5, 6, 7, 8, 9, 10, 11, 0, 1, 2, 3, 4, 5, 6, 7, 8, 9, 10, 11, 0, 1, 2, 3, 4, 5, 6, 7, 8, 9, 10, 11, 0, 1, 2, 3, 4, 5, 6, 7, 8, 9, 10, 11, 0, 1, 2, 3, 4, 5, 6, 7, 8, 9, 10, 11, 0, 1, 2, 3, 4, 5, 6, 7, 8, 9, 10, 11, 0, 1, 2, 3, 4, 5, 6, 7, 8, 9, 10, 11, 0, 1, 2, 3, 4, 5, 6, 7, 8, 9, 10, 11, 0, 1, 2, 3, 4, 5, 6, 7, 8, 9, 10, 11, 0, 1, 2, 3, 4, 5, 6, 7, 8, 9, 10, 11, 0, 1, 2, 3, 4, 5, 6, 7, 8, 9, 10, 11, 0, 1, 2, 3, 4, 5, 6, 7, 8, 9, 10, 11): 3803, (7, 8, 9, 10, 11, 0, 1, 2, 3, 4, 5, 6, 7, 8, 9, 10, 11, 0, 1, 2, 3, 4, 5, 6, 7, 8, 9, 10, 11, 0, 1, 2, 3, 4, 5, 6, 7, 8, 9, 10, 11, 0, 1, 2, 3, 4, 5, 6, 7, 8, 9, 10, 11, 0, 1, 2, 3, 4, 5, 6, 7, 8, 9, 10, 11, 0, 1, 2, 3, 4, 5, 6, 7, 8, 9, 10, 11, 0, 1, 2, 3, 4, 5, 6, 7, 8, 9, 10, 11, 0, 1, 2, 3, 4, 5, 6, 7, 8, 9, 10, 11, 0, 1, 2, 3, 4, 5, 6, 7, 8, 9, 10, 11, 0, 1, 2, 3, 4, 5, 6, 7, 8, 9, 10, 11, 0, 1, 2, 3, 4, 5, 6, 7, 8, 9, 10, 11, 0, 1, 2, 3, 4, 5, 6, 7, 8, 9, 10, 11, 0, 1, 2, 3, 4, 5, 6, 7, 8, 9, 10, 11, 0, 1, 2, 3, 4, 5, 7, 8, 9, 10, 11, 0, 1, 2, 3, 4, 5, 6, 7, 8, 9, 10, 11, 0, 1, 2, 3, 4, 5, 6, 7, 8, 9, 10, 11, 0, 1, 2, 3, 4, 5, 6, 7, 8, 9, 10, 11, 0, 1, 2, 3, 4, 5, 6, 7, 8, 9, 10, 11, 0, 1, 2, 3, 4, 5, 6, 7, 8, 9, 10, 11, 0, 1, 2, 3, 4, 5, 6, 7, 8, 9, 10, 11, 0, 1, 2, 3, 4, 5, 6, 7, 8, 9, 10, 11, 0, 1, 2, 3, 4, 5, 6, 7, 8, 9, 10, 11, 0, 1, 2, 3, 4, 5, 7, 8, 9, 10, 11, 0, 1, 2, 3, 4, 5, 6, 7, 8, 9, 10, 11, 0, 1, 2, 3, 4, 5, 6, 7, 8, 9): 753, (7, 8, 9, 10, 11, 0, 1, 2, 3, 4, 5, 6, 7, 8, 9, 10, 11, 0, 1, 2, 3, 4, 5, 6, 7, 8, 9, 10, 11, 0, 1, 2, 3, 4, 5, 6, 7, 8, 9, 10, 11, 0, 1, 2, 3, 4, 5, 6, 7, 8, 9, 10, 11, 0, 1, 2, 3, 4, 5, 6, 7, 8, 9, 10, 11, 0, 1, 2, 3, 4, 5, 6, 7, 8, 9, 10, 11, 0, 1, 2, 3, 4, 5, 6, 7, 8, 9, 10, 11, 0, 1, 2, 3, 4, 5, 6, 7, 8, 9, 10, 11, 0, 1, 2, 3, 4, 5, 6, 7, 8, 9, 10, 11, 0, 1, 2, 3, 4, 5, 6, 7, 8, 9, 10, 11, 0, 1, 2, 3, 4, 5, 6, 7, 8, 9, 10, 11, 0, 1, 2, 3, 4, 5, 6, 7, 8, 9, 10, 11, 0, 1, 2, 3, 4, 5, 6, 7, 8, 9, 10, 11, 0, 1, 2, 3, 4, 5, 6, 7, 8, 9, 10, 11, 0, 1, 2, 3, 4, 5, 6, 7, 8, 9, 10, 11, 0, 1, 2, 3, 4, 5, 6, 7, 8, 9, 10, 11, 0, 1, 2, 3, 4, 5, 6, 7, 8, 9, 10, 11, 0, 1, 2, 3, 4, 5, 6, 7, 8, 9, 10, 11, 0, 1, 2, 3, 4, 5, 6, 7, 8, 9, 10, 11, 0, 1, 2, 3, 4, 5, 6, 7, 8, 9, 10, 11, 0, 1, 2, 3, 4, 5, 6, 7, 8, 9, 10, 11, 0, 1, 2, 3, 4, 5, 6, 7, 8, 9, 10, 11, 0, 1, 2, 3, 4, 5, 6, 7, 8, 9, 10, 11, 0, 1, 2, 3, 4, 5, 6, 7, 8, 9, 10, 11, 0, 1, 2, 3, 4, 5, 6, 7): 3811, (9, 10, 11, 0, 1, 2, 3, 4, 5, 6, 7, 8, 9, 10, 11, 0, 1, 2, 3, 4, 5, 6, 7, 8, 9, 10, 11, 0, 1, 2, 3, 4, 5, 6, 7, 8, 9, 10, 11, 0, 1, 2, 3, 4, 5, 6, 7, 8, 9, 10, 11, 0, 1, 2, 3, 4, 5, 6, 7, 8, 9, 10, 11, 0, 1, 2, 3, 4, 5, 6, 7, 8, 9, 10, 11, 0, 1, 2, 3, 4, 5, 6, 7, 8, 9, 10, 11, 0, 1, 2, 3, 4, 5, 6, 7, 8, 9, 10, 11, 0, 1, 2, 3, 4, 5, 6, 7, 8, 9, 10, 11, 0, 1, 2, 3, 4, 5, 6, 7, 8, 9, 10, 11, 0, 1, 2, 3, 4, 5, 6, 7, 8, 9, 10, 11, 0, 1, 2, 3, 4, 5, 6, 7, 8, 9, 10, 11, 0, 1, 2, 3, 4, 5, 6, 7, 8, 9, 10, 11, 0, 1, 2, 3, 4, 5, 6, 7, 8, 9, 10, 11, 0, 1, 2, 3, 4, 5, 6, 7, 8, 9, 10, 11, 0, 1, 2, 3, 4, 5, 6, 7, 8, 9, 10, 11, 0, 1, 2, 3, 4, 5, 6, 7, 8, 9, 10, 11, 0, 1, 2, 3, 4, 5, 6, 7, 8, 9, 10, 11, 0, 1, 2, 3, 4, 5, 6, 7, 8, 9, 10, 11, 0, 1, 2, 3, 4, 5, 6, 7, 8, 9, 10, 11, 0, 1, 2, 3, 4, 5, 6, 7, 8, 9, 10, 11, 0, 1, 2, 3, 4, 5, 6, 7, 8, 9, 10, 11, 0, 1, 2, 3, 4, 5, 6, 7, 8, 9, 10, 11, 0, 1, 2, 3, 4, 5, 6, 7, 8, 9, 10, 11, 0, 1, 2, 3, 4, 5, 6, 7, 8, 9): 106, (6, 7, 8, 9, 10, 11, 0, 1, 2, 3, 4, 5, 6, 7, 8, 9, 10, 11, 0, 1, 2, 3, 4, 5, 6, 7, 8, 9, 10, 11, 0, 1, 2, 3, 4, 5, 6, 7, 8, 9, 10, 11, 0, 1, 2, 3, 4, 5, 6, 7, 8, 9, 10, 11, 0, 1, 2, 3, 4, 5, 6, 7, 8, 9, 10, 11, 0, 1, 2, 3, 4, 5, 6, 7, 8, 9, 10, 11, 0, 1, 2, 3, 4, 5, 6, 7, 8, 9, 10, 11, 0, 1, 2, 3, 4, 5, 6, 7, 8, 9, 10, 11, 0, 1, 2, 3, 4, 5, 6, 7, 8, 9, 10, 11, 0, 1, 2, 3, 4, 5, 6, 7, 8, 9, 10, 11, 0, 1, 2, 3, 4, 5, 6, 7, 8, 9, 10, 11, 0, 1, 2, 3, 4, 5, 6, 7, 8, 9, 10, 11, 0, 1, 2, 3, 4, 5, 6, 7, 8, 9, 10, 11, 0, 1, 2, 3, 4, 5, 6, 7, 8, 9, 10, 11, 0, 1, 2, 3, 4, 5, 6, 7, 8, 9, 10, 11, 0, 1, 2, 3, 4, 5, 6, 7, 8, 9, 10, 11, 0, 1, 2, 3, 4, 5, 6, 7, 8, 9, 10, 11, 0, 1, 2, 3, 4, 5, 6, 7, 8, 9, 10, 11, 0, 1, 2, 3, 4, 5, 6, 7, 8, 9, 10, 11, 0, 1, 2, 3, 4, 5, 6, 7, 8, 9, 10, 11, 0, 1, 2, 3, 4, 5, 6, 7, 8, 9, 10, 11, 0, 1, 2, 3, 4, 5, 6, 7, 8, 9, 10, 11, 0, 1, 2, 3, 4, 5, 6, 7, 8, 9, 10, 11, 0, 1, 2, 3, 4, 5, 6, 7, 8, 9, 10, 11, 0, 1, 2, 3, 4, 5, 6): 3795, (9, 10, 11, 0, 1, 2, 3, 4, 5, 6, 7, 8, 9, 10, 11, 0, 1, 2, 3, 4, 5, 6, 7, 8, 9, 10, 11, 0, 1, 2, 3, 4, 5, 6, 9, 10, 11, 0, 1, 2, 3, 4, 5, 6, 7, 8, 9, 10, 11, 0, 1, 2, 3, 4, 5, 6, 7, 8, 9, 10, 11, 0, 1, 2, 3, 4, 5, 6, 7, 8, 9, 10, 11, 0, 1, 2, 3, 4, 5, 6, 7, 8, 9, 10, 11, 0, 1, 2, 3, 4, 5, 6, 7, 8, 9, 10, 11, 0, 1, 2, 3, 4, 5, 6, 7, 8, 9, 10, 11, 0, 1, 2, 3, 4, 5, 6, 7, 8, 9, 10, 11, 0, 1, 2, 3, 4, 5, 6, 7, 8, 9, 10, 11, 0, 1, 2, 3, 4, 5, 6, 7, 8, 9, 10, 11, 0, 1, 2, 3, 4, 5, 6, 7, 8, 9, 10, 11, 0, 1, 2, 3, 4, 5, 6, 7, 8, 9, 10, 11, 0, 1, 2, 3, 4, 5, 6, 7, 8, 9, 10, 11, 0, 1, 2, 3, 4, 5, 6, 7, 8, 9, 10, 11, 0, 1, 2, 3, 4, 5, 6, 7, 8, 9, 10, 11, 0, 1, 2, 3, 4, 5, 6, 7, 8, 9, 10, 11, 0, 1, 2, 3, 4, 5, 6, 7, 8, 9, 10, 11, 0, 1, 2, 3, 4, 5, 6, 7, 8, 9, 10, 11, 0, 1, 2, 3, 4, 5, 6, 7, 8, 9, 10, 11, 0, 1, 2, 3, 4, 5, 6, 7, 8, 9, 10, 11, 0, 1, 2, 3, 4, 5, 6, 7, 8, 9, 10, 11, 0, 1, 2, 3, 4, 5, 6, 7, 8, 9, 10, 11, 0, 1, 2, 3, 4, 5, 6, 7, 8, 9, 10, 11): 486, (9, 5, 6, 7, 8, 9, 10, 11, 0, 1, 2, 3, 4, 5, 6, 7, 8, 9, 10, 11, 0, 1, 2, 3, 4, 5, 6, 7, 8, 9, 10, 11, 0, 1, 2, 3, 4, 5, 6, 7, 8, 9, 10, 11, 0, 1, 2, 3, 4, 5, 6, 7, 8, 9, 10, 11, 0, 1, 2, 3, 4, 5, 6, 7, 8, 9, 10, 11, 0, 1, 2, 3, 4, 5, 6, 7, 8, 9, 10, 11, 0, 1, 2, 3, 4, 5, 6, 7, 8, 9, 10, 11, 0, 1, 2, 3, 4, 5, 6, 7, 8, 9, 10, 11, 0, 1, 2, 3, 4, 5, 6, 7, 8, 9, 10, 11, 0, 1, 2, 3, 4, 5, 6, 7, 8, 9, 10, 11, 0, 1, 2, 3, 4, 5, 6, 7, 8, 9, 10, 11, 0, 1, 2, 3, 4, 5, 6, 7, 8, 9, 10, 11, 0, 1, 2, 3, 4, 5, 6, 7, 8, 9, 10, 11, 0, 1, 2, 3, 4, 5, 6, 7, 8, 9, 10, 11, 0, 1, 2, 3, 4, 5, 6, 7, 8, 9, 10, 11, 0, 1, 2, 3, 4, 5, 6, 7, 8, 9, 10, 11, 0, 1, 2, 3, 4, 5, 6, 7, 8, 9, 10, 11, 0, 1, 2, 3, 4, 5, 6, 7, 8, 9, 10, 11, 0, 1, 2, 3, 4, 5, 6, 7, 8, 9, 10, 11, 0, 1, 2, 3, 4, 5, 6, 7, 8, 9, 10, 11, 0, 1, 2, 3, 4, 5, 6, 7, 8, 9, 10, 11, 0, 1, 2, 3, 4, 5, 6, 7, 8, 9, 10, 11, 0, 1, 2, 3, 4, 5, 6, 7, 8, 9, 10, 11, 0, 1, 2, 3, 4, 5, 6, 7, 8, 9, 10, 11, 0, 1, 2, 3, 4): 3805, (4, 5, 6, 7, 8, 9, 10, 11, 0, 1, 2, 3, 4, 5, 6, 7, 8, 9, 10, 11, 0, 1, 2, 3, 4, 5, 6, 7, 8, 9, 10, 11, 0, 1, 2, 3, 4, 5, 6, 7, 8, 9, 10, 11, 0, 1, 2, 3, 4, 5, 6, 7, 8, 9, 10, 11, 0, 1, 2, 3, 4, 5, 6, 7, 8, 9, 10, 11, 0, 1, 2, 3, 4, 5, 6, 7, 8, 9, 10, 11, 0, 1, 2, 3, 4, 5, 6, 7, 8, 9, 10, 11, 0, 1, 2, 3, 4, 5, 6, 7, 8, 9, 10, 11, 0, 1, 2, 3, 4, 5, 6, 7, 8, 9, 10, 11, 0, 1, 2, 3, 4, 5, 6, 7, 8, 9, 10, 11, 0, 1, 2, 3, 4, 5, 6, 7, 8, 9, 10, 11, 0, 1, 2, 3, 4, 5, 6, 7, 8, 9, 12, 6, 7, 8, 9, 10, 11, 0, 1, 2, 3, 4, 5, 6, 7, 8, 9, 10, 11, 0, 1, 2, 3, 4, 5, 6, 7, 8, 9, 10, 11, 0, 1, 2, 3, 4, 5, 6, 7, 8, 9, 10, 11, 0, 1, 2, 3, 4, 5, 6, 7, 8, 9, 12, 6, 7, 8, 9, 10, 11, 0, 1, 2, 3, 4, 5, 6, 7, 8, 9, 10, 11, 0, 1, 2, 3, 4, 5, 6, 7, 8, 9, 10, 11, 0, 1, 2, 3, 4, 5, 6, 7, 8, 9, 10, 11, 0, 1, 2, 3, 4, 5, 6, 7, 8, 9, 10, 11, 0, 1, 2, 3, 4, 5, 6, 7, 8, 9, 10, 11, 0, 1, 2, 3, 4, 5, 6, 7, 8, 9, 10, 11, 0, 1, 2, 3, 4, 5, 6, 7, 8, 9, 10, 11, 0, 1, 2, 3, 4, 5, 6): 3787, (2, 3, 4, 5, 6, 7, 8, 9, 10, 11, 0, 1, 2, 3, 4, 5, 6, 7, 8, 9, 13, 0, 1, 2, 3, 4, 5, 6, 7, 8, 9, 10, 11, 0, 1, 2, 3, 4, 5, 6, 7, 8, 9, 10, 11, 0, 1, 2, 3, 4, 5, 6, 7, 8, 9, 10, 11, 0, 1, 2, 3, 4, 5, 6, 7, 8, 9, 10, 11, 0, 1, 2, 3, 4, 5, 6, 7, 8, 9, 10, 11, 0, 1, 2, 3, 4, 5, 6, 7, 8, 9, 10, 11, 0, 1, 2, 3, 4, 5, 6, 7, 8, 9, 10, 11, 0, 1, 2, 3, 4, 5, 6, 7, 8, 9, 10, 11, 0, 1, 2, 3, 4, 5, 6, 7, 8, 9, 10, 11, 0, 1, 2, 3, 4, 5, 6, 7, 8, 9, 10, 11, 0, 1, 2, 3, 4, 5, 6, 7, 8, 9, 10, 11, 0, 1, 2, 3, 4, 5, 6, 7, 8, 9, 10, 11, 0, 1, 2, 3, 4, 5, 6, 7, 8, 9, 10, 11, 0, 1, 2, 3, 4, 5, 6, 7, 8, 9, 10, 11, 0, 1, 2, 3, 4, 5, 6, 7, 8, 9, 10, 11, 0, 1, 2, 3, 4, 5, 6, 7, 8, 9, 10, 11, 0, 1, 2, 3, 4, 5, 6, 7, 8, 9, 10, 11, 0, 1, 2, 3, 4, 5, 6, 7, 8, 9, 10, 11, 0, 1, 2, 3, 4, 5, 6, 7, 8, 9, 10, 11, 0, 1, 2, 3, 4, 5, 6, 7, 8, 9, 10, 11, 0, 1, 2, 3, 4, 5, 6, 7, 8, 9, 10, 11, 0, 1, 2, 3, 4, 5, 6, 7, 8, 9, 10, 11, 0, 1, 2, 3, 4, 5, 6, 7, 8, 9, 10, 11, 0, 1, 2, 3): 2728, (4, 5, 6, 7, 8, 9, 10, 11, 0, 1, 2, 3, 4, 5, 6, 7, 8, 9, 10, 11, 0, 1, 2, 3, 4, 5, 6, 7, 8, 9, 10, 11, 0, 1, 2, 3, 4, 5, 6, 7, 8, 9, 10, 11, 0, 1, 2, 3, 4, 5, 6, 7, 8, 9, 10, 11, 0, 1, 2, 3, 4, 5, 6, 7, 8, 9, 10, 11, 0, 1, 2, 3, 4, 5, 7, 8, 9, 10, 11, 0, 1, 2, 3, 4, 5, 6, 7, 8, 9, 10, 11, 0, 1, 2, 3, 4, 5, 6, 7, 8, 9, 10, 11, 0, 1, 2, 3, 4, 5, 6, 7, 8, 9, 10, 11, 0, 1, 2, 3, 4, 5, 6, 7, 8, 9, 10, 11, 0, 1, 2, 3, 4, 5, 6, 7, 8, 9, 10, 11, 0, 1, 2, 3, 4, 5, 6, 7, 8, 9, 10, 11, 0, 1, 2, 3, 4, 5, 6, 7, 8, 9, 10, 11, 0, 1, 2, 3, 4, 5, 6, 7, 8, 9, 10, 11, 0, 1, 2, 3, 4, 5, 6, 7, 8, 9, 10, 11, 0, 1, 2, 3, 4, 5, 6, 7, 8, 9, 10, 11, 0, 1, 2, 3, 4, 5, 6, 7, 8, 9, 10, 11, 0, 1, 2, 3, 4, 5, 6, 7, 8, 9, 10, 11, 0, 1, 2, 3, 4, 5, 6, 7, 8, 9, 10, 11, 0, 1, 2, 3, 4, 5, 6, 7, 8, 9, 10, 11, 0, 1, 2, 3, 4, 5, 6, 7, 8, 9, 10, 11, 0, 1, 2, 3, 4, 5, 6, 7, 8, 9, 10, 11, 0, 1, 2, 3, 4, 5, 6, 7, 8, 9, 10, 11, 0, 1, 2, 3, 4, 5, 6, 7, 8, 9, 10, 11, 0, 1, 2, 3, 4, 5): 955, (7, 8, 9, 10, 11, 0, 1, 2, 3, 4, 5, 6, 7, 8, 9, 10, 11, 0, 1, 2, 3, 4, 5, 6, 7, 8, 9, 10, 11, 0, 1, 2, 3, 4, 5, 6, 7, 8, 9, 10, 11, 0, 1, 2, 3, 4, 5, 6, 7, 8, 9, 10, 11, 0, 1, 2, 3, 4, 5, 6, 7, 8, 9, 10, 11, 0, 1, 2, 3, 4, 5, 6, 7, 8, 9, 10, 11, 0, 1, 2, 3, 4, 5, 6, 7, 8, 9, 10, 11, 0, 1, 2, 3, 4, 5, 6, 7, 8, 9, 10, 11, 0, 1, 2, 3, 4, 5, 6, 7, 8, 9, 10, 11, 0, 1, 2, 3, 4, 5, 6, 7, 8, 9, 10, 11, 0, 1, 2, 3, 4, 5, 6, 7, 8, 9, 10, 11, 0, 1, 2, 3, 4, 5, 6, 7, 8, 9, 10, 11, 0, 1, 2, 3, 4, 5, 6, 7, 8, 9, 10, 11, 0, 1, 2, 3, 4, 5, 6, 7, 8, 9, 10, 11, 0, 1, 2, 3, 4, 5, 6, 7, 8, 9, 10, 11, 0, 1, 2, 3, 4, 5, 6, 7, 8, 9, 10, 11, 0, 1, 2, 3, 4, 5, 6, 7, 8, 9, 10, 11, 0, 1, 2, 3, 4, 5, 6, 7, 8, 9, 10, 11, 0, 1, 2, 3, 4, 5, 7, 8, 9, 10, 11, 0, 1, 2, 3, 4, 5, 6, 7, 8, 9, 10, 11, 0, 1, 2, 3, 4, 5, 6, 7, 8, 9, 10, 11, 0, 1, 2, 3, 4, 5, 6, 7, 8, 9, 10, 11, 0, 1, 2, 3, 4, 5, 6, 7, 8, 9, 10, 11, 0, 1, 2, 3, 4, 5, 6, 7, 8, 9, 10, 11, 0, 1, 2, 3, 4, 5, 6, 7, 8): 1039, (3, 4, 5, 6, 7, 8, 9, 10, 11, 0, 1, 2, 3, 4, 5, 6, 7, 8, 9, 10, 11, 0, 1, 2, 3, 4, 5, 6, 7, 8, 9, 10, 11, 0, 1, 2, 3, 4, 5, 6, 7, 8, 9, 10, 11, 0, 1, 2, 3, 4, 5, 6, 7, 8, 9, 10, 11, 0, 1, 2, 3, 4, 5, 6, 7, 8, 9, 10, 11, 0, 1, 2, 3, 4, 5, 6, 7, 8, 9, 10, 11, 0, 1, 2, 3, 4, 5, 6, 7, 8, 9, 10, 11, 0, 1, 2, 3, 4, 5, 6, 7, 8, 9, 10, 11, 0, 1, 2, 3, 4, 5, 6, 7, 8, 9, 10, 11, 0, 1, 2, 3, 4, 5, 6, 7, 8, 9, 10, 11, 0, 1, 2, 3, 4, 5, 6, 7, 8, 9, 10, 11, 0, 1, 2, 3, 4, 5, 6, 7, 8, 9, 10, 11, 0, 1, 2, 3, 4, 5, 6, 7, 8, 9, 10, 11, 0, 1, 2, 3, 4, 5, 6, 7, 8, 9, 10, 11, 0, 1, 2, 3, 4, 5, 6, 7, 8, 9, 10, 11, 0, 1, 2, 3, 4, 5, 7, 8, 9, 10, 11, 0, 1, 2, 3, 4, 5, 6, 7, 8, 9, 10, 11, 0, 1, 2, 3, 4, 5, 6, 7, 8, 9, 10, 11, 0, 1, 2, 3, 4, 5, 6, 7, 8, 9, 10, 11, 0, 1, 2, 3, 4, 5, 6, 7, 8, 9, 10, 11, 0, 1, 2, 3, 4, 5, 6, 7, 8, 9, 10, 11, 0, 1, 2, 3, 4, 5, 6, 7, 8, 9, 10, 11, 0, 1, 2, 3, 4, 5, 6, 7, 8, 9, 10, 11, 0, 1, 2, 3, 4, 5, 6, 7, 8, 9, 10, 11, 0, 1, 2, 3, 4): 1073, (5, 6, 7, 8, 9, 10, 11, 0, 1, 2, 3, 4, 5, 6, 7, 8, 9, 10, 11, 0, 1, 2, 3, 4, 5, 6, 7, 8, 9, 10, 11, 0, 1, 2, 3, 4, 5, 6, 7, 8, 9, 10, 11, 0, 1, 2, 3, 4, 5, 6, 7, 8, 9, 10, 11, 0, 1, 2, 3, 4, 5, 6, 7, 8, 9, 10, 11, 0, 1, 2, 3, 4, 5, 6, 7, 8, 9, 10, 11, 0, 1, 2, 3, 4, 5, 6, 7, 8, 9, 10, 11, 0, 1, 2, 3, 4, 5, 6, 7, 8, 9, 10, 11, 0, 1, 2, 3, 4, 5, 6, 7, 8, 9, 10, 11, 0, 1, 2, 3, 4, 5, 6, 7, 8, 9, 10, 11, 0, 1, 2, 3, 4, 5, 6, 7, 8, 9, 10, 11, 0, 1, 2, 3, 4, 5, 6, 7, 8, 9, 10, 11, 0, 1, 2, 3, 4, 5, 6, 7, 8, 9, 10, 11, 0, 1, 2, 3, 4, 5, 6, 7, 8, 9, 10, 11, 0, 1, 2, 3, 4, 5, 6, 7, 8, 9, 10, 11, 0, 1, 2, 3, 4, 5, 6, 7, 8, 9, 10, 11, 0, 1, 2, 3, 4, 5, 6, 7, 8, 9, 10, 11, 0, 1, 2, 3, 4, 5, 6, 7, 8, 9, 10, 11, 0, 1, 2, 3, 4, 5, 6, 7, 8, 9, 10, 11, 0, 1, 2, 3, 4, 5, 6, 7, 8, 9, 10, 11, 0, 1, 2, 3, 4, 5, 6, 7, 8, 9, 10, 11, 0, 1, 2, 3, 4, 5, 6, 7, 8, 9, 10, 11, 0, 1, 2, 3, 4, 5, 6, 7, 8, 9, 10, 11, 0, 1, 2, 3, 4, 5, 6, 7, 8, 9, 10, 11, 0, 1, 2, 3, 4, 5): 3806}\n",
      "[3791, 3804, 3790, 3803, 753, 3811, 106, 3795, 486, 3805, 3787, 2728, 955, 1039, 1073, 3806]\n",
      "16 16 16\n"
     ]
    }
   ],
   "source": [
    "transformed_db = lightdb.toDB()"
   ]
  },
  {
   "cell_type": "code",
   "execution_count": 1168,
   "metadata": {},
   "outputs": [],
   "source": [
    "# transformed_db.write_dot(f'../../experiments/{date}/transformed_test', compact=True)"
   ]
  },
  {
   "cell_type": "markdown",
   "metadata": {},
   "source": [
    "# Testing correctness"
   ]
  },
  {
   "cell_type": "code",
   "execution_count": 1169,
   "metadata": {},
   "outputs": [],
   "source": [
    "dbs_assembly_reference, _ = \\\n",
    "    get_idb_monostring_set(string_set=sd_report_assembly.monostring_set,\n",
    "                           mink=K, maxk=K,\n",
    "                           outdir=None,\n",
    "                           mode='assembly')"
   ]
  },
  {
   "cell_type": "code",
   "execution_count": 1170,
   "metadata": {},
   "outputs": [],
   "source": [
    "color3graph = DeBruijnGraph3Color.from_db_graphs(gr_assembly=dbs_assembly_reference[K], gr_reads=transformed_db)"
   ]
  },
  {
   "cell_type": "code",
   "execution_count": 1171,
   "metadata": {},
   "outputs": [
    {
     "data": {
      "text/plain": [
       "'20200928'"
      ]
     },
     "execution_count": 1171,
     "metadata": {},
     "output_type": "execute_result"
    }
   ],
   "source": [
    "date"
   ]
  },
  {
   "cell_type": "code",
   "execution_count": 1172,
   "metadata": {},
   "outputs": [],
   "source": [
    "color3graph.write_dot(f'../../experiments/{date}/c3g_test', compact=True)"
   ]
  },
  {
   "cell_type": "code",
   "execution_count": 1173,
   "metadata": {},
   "outputs": [
    {
     "name": "stdout",
     "output_type": "stream",
     "text": [
      "/Poppy/abzikadze/centroFlye/centroFlye_repo/experiments/20200928/c3g_test\r\n"
     ]
    }
   ],
   "source": [
    "!realpath ../../experiments/{date}/c3g_test"
   ]
  },
  {
   "cell_type": "code",
   "execution_count": null,
   "metadata": {},
   "outputs": [],
   "source": []
  }
 ],
 "metadata": {
  "kernelspec": {
   "display_name": "Python 3",
   "language": "python",
   "name": "python3"
  },
  "language_info": {
   "codemirror_mode": {
    "name": "ipython",
    "version": 3
   },
   "file_extension": ".py",
   "mimetype": "text/x-python",
   "name": "python",
   "nbconvert_exporter": "python",
   "pygments_lexer": "ipython3",
   "version": "3.6.10"
  }
 },
 "nbformat": 4,
 "nbformat_minor": 4
}
